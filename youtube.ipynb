{
 "cells": [
  {
   "cell_type": "code",
   "execution_count": 1,
   "metadata": {},
   "outputs": [],
   "source": [
    "import numpy as np\n",
    "import pandas as pd\n",
    "import matplotlib.cm as cm \n",
    "import matplotlib.pyplot as plt "
   ]
  },
  {
   "cell_type": "code",
   "execution_count": 2,
   "metadata": {},
   "outputs": [
    {
     "data": {
      "text/html": [
       "<div>\n",
       "<style scoped>\n",
       "    .dataframe tbody tr th:only-of-type {\n",
       "        vertical-align: middle;\n",
       "    }\n",
       "\n",
       "    .dataframe tbody tr th {\n",
       "        vertical-align: top;\n",
       "    }\n",
       "\n",
       "    .dataframe thead th {\n",
       "        text-align: right;\n",
       "    }\n",
       "</style>\n",
       "<table border=\"1\" class=\"dataframe\">\n",
       "  <thead>\n",
       "    <tr style=\"text-align: right;\">\n",
       "      <th></th>\n",
       "      <th>vidid</th>\n",
       "      <th>adview</th>\n",
       "      <th>views</th>\n",
       "      <th>likes</th>\n",
       "      <th>dislikes</th>\n",
       "      <th>comment</th>\n",
       "      <th>published</th>\n",
       "      <th>duration</th>\n",
       "      <th>category</th>\n",
       "    </tr>\n",
       "  </thead>\n",
       "  <tbody>\n",
       "    <tr>\n",
       "      <th>0</th>\n",
       "      <td>VID_18655</td>\n",
       "      <td>40</td>\n",
       "      <td>1031602</td>\n",
       "      <td>8523</td>\n",
       "      <td>363</td>\n",
       "      <td>1095</td>\n",
       "      <td>2016-09-14</td>\n",
       "      <td>PT7M37S</td>\n",
       "      <td>F</td>\n",
       "    </tr>\n",
       "    <tr>\n",
       "      <th>1</th>\n",
       "      <td>VID_14135</td>\n",
       "      <td>2</td>\n",
       "      <td>1707</td>\n",
       "      <td>56</td>\n",
       "      <td>2</td>\n",
       "      <td>6</td>\n",
       "      <td>2016-10-01</td>\n",
       "      <td>PT9M30S</td>\n",
       "      <td>D</td>\n",
       "    </tr>\n",
       "    <tr>\n",
       "      <th>2</th>\n",
       "      <td>VID_2187</td>\n",
       "      <td>1</td>\n",
       "      <td>2023</td>\n",
       "      <td>25</td>\n",
       "      <td>0</td>\n",
       "      <td>2</td>\n",
       "      <td>2016-07-02</td>\n",
       "      <td>PT2M16S</td>\n",
       "      <td>C</td>\n",
       "    </tr>\n",
       "    <tr>\n",
       "      <th>3</th>\n",
       "      <td>VID_23096</td>\n",
       "      <td>6</td>\n",
       "      <td>620860</td>\n",
       "      <td>777</td>\n",
       "      <td>161</td>\n",
       "      <td>153</td>\n",
       "      <td>2016-07-27</td>\n",
       "      <td>PT4M22S</td>\n",
       "      <td>H</td>\n",
       "    </tr>\n",
       "    <tr>\n",
       "      <th>4</th>\n",
       "      <td>VID_10175</td>\n",
       "      <td>1</td>\n",
       "      <td>666</td>\n",
       "      <td>1</td>\n",
       "      <td>0</td>\n",
       "      <td>0</td>\n",
       "      <td>2016-06-29</td>\n",
       "      <td>PT31S</td>\n",
       "      <td>D</td>\n",
       "    </tr>\n",
       "  </tbody>\n",
       "</table>\n",
       "</div>"
      ],
      "text/plain": [
       "       vidid  adview    views likes dislikes comment   published duration  \\\n",
       "0  VID_18655      40  1031602  8523      363    1095  2016-09-14  PT7M37S   \n",
       "1  VID_14135       2     1707    56        2       6  2016-10-01  PT9M30S   \n",
       "2   VID_2187       1     2023    25        0       2  2016-07-02  PT2M16S   \n",
       "3  VID_23096       6   620860   777      161     153  2016-07-27  PT4M22S   \n",
       "4  VID_10175       1      666     1        0       0  2016-06-29    PT31S   \n",
       "\n",
       "  category  \n",
       "0        F  \n",
       "1        D  \n",
       "2        C  \n",
       "3        H  \n",
       "4        D  "
      ]
     },
     "execution_count": 2,
     "metadata": {},
     "output_type": "execute_result"
    }
   ],
   "source": [
    "#impoting data\n",
    "data=pd.read_csv(\"train.csv\")\n",
    "data.head()"
   ]
  },
  {
   "cell_type": "code",
   "execution_count": 3,
   "metadata": {},
   "outputs": [
    {
     "data": {
      "text/plain": [
       "(14999, 9)"
      ]
     },
     "execution_count": 3,
     "metadata": {},
     "output_type": "execute_result"
    }
   ],
   "source": [
    "data.shape"
   ]
  },
  {
   "cell_type": "markdown",
   "metadata": {},
   "source": [
    "#Assigning each category a number for category feature"
   ]
  },
  {
   "cell_type": "code",
   "execution_count": 4,
   "metadata": {},
   "outputs": [
    {
     "data": {
      "text/html": [
       "<div>\n",
       "<style scoped>\n",
       "    .dataframe tbody tr th:only-of-type {\n",
       "        vertical-align: middle;\n",
       "    }\n",
       "\n",
       "    .dataframe tbody tr th {\n",
       "        vertical-align: top;\n",
       "    }\n",
       "\n",
       "    .dataframe thead th {\n",
       "        text-align: right;\n",
       "    }\n",
       "</style>\n",
       "<table border=\"1\" class=\"dataframe\">\n",
       "  <thead>\n",
       "    <tr style=\"text-align: right;\">\n",
       "      <th></th>\n",
       "      <th>vidid</th>\n",
       "      <th>adview</th>\n",
       "      <th>views</th>\n",
       "      <th>likes</th>\n",
       "      <th>dislikes</th>\n",
       "      <th>comment</th>\n",
       "      <th>published</th>\n",
       "      <th>duration</th>\n",
       "      <th>category</th>\n",
       "    </tr>\n",
       "  </thead>\n",
       "  <tbody>\n",
       "    <tr>\n",
       "      <th>0</th>\n",
       "      <td>VID_18655</td>\n",
       "      <td>40</td>\n",
       "      <td>1031602</td>\n",
       "      <td>8523</td>\n",
       "      <td>363</td>\n",
       "      <td>1095</td>\n",
       "      <td>2016-09-14</td>\n",
       "      <td>PT7M37S</td>\n",
       "      <td>6</td>\n",
       "    </tr>\n",
       "    <tr>\n",
       "      <th>1</th>\n",
       "      <td>VID_14135</td>\n",
       "      <td>2</td>\n",
       "      <td>1707</td>\n",
       "      <td>56</td>\n",
       "      <td>2</td>\n",
       "      <td>6</td>\n",
       "      <td>2016-10-01</td>\n",
       "      <td>PT9M30S</td>\n",
       "      <td>4</td>\n",
       "    </tr>\n",
       "    <tr>\n",
       "      <th>2</th>\n",
       "      <td>VID_2187</td>\n",
       "      <td>1</td>\n",
       "      <td>2023</td>\n",
       "      <td>25</td>\n",
       "      <td>0</td>\n",
       "      <td>2</td>\n",
       "      <td>2016-07-02</td>\n",
       "      <td>PT2M16S</td>\n",
       "      <td>3</td>\n",
       "    </tr>\n",
       "    <tr>\n",
       "      <th>3</th>\n",
       "      <td>VID_23096</td>\n",
       "      <td>6</td>\n",
       "      <td>620860</td>\n",
       "      <td>777</td>\n",
       "      <td>161</td>\n",
       "      <td>153</td>\n",
       "      <td>2016-07-27</td>\n",
       "      <td>PT4M22S</td>\n",
       "      <td>8</td>\n",
       "    </tr>\n",
       "    <tr>\n",
       "      <th>4</th>\n",
       "      <td>VID_10175</td>\n",
       "      <td>1</td>\n",
       "      <td>666</td>\n",
       "      <td>1</td>\n",
       "      <td>0</td>\n",
       "      <td>0</td>\n",
       "      <td>2016-06-29</td>\n",
       "      <td>PT31S</td>\n",
       "      <td>4</td>\n",
       "    </tr>\n",
       "  </tbody>\n",
       "</table>\n",
       "</div>"
      ],
      "text/plain": [
       "       vidid  adview    views likes dislikes comment   published duration  \\\n",
       "0  VID_18655      40  1031602  8523      363    1095  2016-09-14  PT7M37S   \n",
       "1  VID_14135       2     1707    56        2       6  2016-10-01  PT9M30S   \n",
       "2   VID_2187       1     2023    25        0       2  2016-07-02  PT2M16S   \n",
       "3  VID_23096       6   620860   777      161     153  2016-07-27  PT4M22S   \n",
       "4  VID_10175       1      666     1        0       0  2016-06-29    PT31S   \n",
       "\n",
       "   category  \n",
       "0         6  \n",
       "1         4  \n",
       "2         3  \n",
       "3         8  \n",
       "4         4  "
      ]
     },
     "execution_count": 4,
     "metadata": {},
     "output_type": "execute_result"
    }
   ],
   "source": [
    "category={'A':1,'B':2,'C':3,'D':4,'E':5,'F':6,'G':7,'H':8}\n",
    "data[\"category\"]=data[\"category\"].map(category)\n",
    "data.head()"
   ]
  },
  {
   "cell_type": "markdown",
   "metadata": {},
   "source": [
    "Removing character \"f\" present in data"
   ]
  },
  {
   "cell_type": "code",
   "execution_count": 5,
   "metadata": {},
   "outputs": [],
   "source": [
    "data=data[data.views!='F']\n",
    "data=data[data.likes!='F']\n",
    "data=data[data.dislikes!='F']\n",
    "data=data[data.comment!='F']"
   ]
  },
  {
   "cell_type": "markdown",
   "metadata": {},
   "source": [
    "Convert values to integers for views,likes,comments,dislikes and adview"
   ]
  },
  {
   "cell_type": "code",
   "execution_count": 6,
   "metadata": {},
   "outputs": [],
   "source": [
    "data[\"views\"]=pd.to_numeric(data[\"views\"])\n",
    "data[\"comment\"]=pd.to_numeric(data[\"comment\"])\n",
    "data[\"likes\"]=pd.to_numeric(data[\"likes\"])\n",
    "data[\"dislikes\"]=pd.to_numeric(data[\"dislikes\"])\n",
    "data[\"adview\"]=pd.to_numeric(data[\"adview\"])"
   ]
  },
  {
   "cell_type": "code",
   "execution_count": 7,
   "metadata": {},
   "outputs": [],
   "source": [
    "column_vidid=data['vidid']"
   ]
  },
  {
   "cell_type": "markdown",
   "metadata": {},
   "source": [
    "Encoding features like category ,Duration,Vidid"
   ]
  },
  {
   "cell_type": "code",
   "execution_count": 8,
   "metadata": {},
   "outputs": [],
   "source": [
    "from sklearn.preprocessing import LabelEncoder\n",
    "data['duration']=LabelEncoder().fit_transform(data['duration'])\n",
    "data['vidid']=LabelEncoder().fit_transform(data['vidid'])\n",
    "data['published']=LabelEncoder().fit_transform(data['published'])"
   ]
  },
  {
   "cell_type": "code",
   "execution_count": 9,
   "metadata": {},
   "outputs": [
    {
     "data": {
      "text/html": [
       "<div>\n",
       "<style scoped>\n",
       "    .dataframe tbody tr th:only-of-type {\n",
       "        vertical-align: middle;\n",
       "    }\n",
       "\n",
       "    .dataframe tbody tr th {\n",
       "        vertical-align: top;\n",
       "    }\n",
       "\n",
       "    .dataframe thead th {\n",
       "        text-align: right;\n",
       "    }\n",
       "</style>\n",
       "<table border=\"1\" class=\"dataframe\">\n",
       "  <thead>\n",
       "    <tr style=\"text-align: right;\">\n",
       "      <th></th>\n",
       "      <th>vidid</th>\n",
       "      <th>adview</th>\n",
       "      <th>views</th>\n",
       "      <th>likes</th>\n",
       "      <th>dislikes</th>\n",
       "      <th>comment</th>\n",
       "      <th>published</th>\n",
       "      <th>duration</th>\n",
       "      <th>category</th>\n",
       "    </tr>\n",
       "  </thead>\n",
       "  <tbody>\n",
       "    <tr>\n",
       "      <th>0</th>\n",
       "      <td>5912</td>\n",
       "      <td>40</td>\n",
       "      <td>1031602</td>\n",
       "      <td>8523</td>\n",
       "      <td>363</td>\n",
       "      <td>1095</td>\n",
       "      <td>2168</td>\n",
       "      <td>2925</td>\n",
       "      <td>6</td>\n",
       "    </tr>\n",
       "    <tr>\n",
       "      <th>1</th>\n",
       "      <td>2741</td>\n",
       "      <td>2</td>\n",
       "      <td>1707</td>\n",
       "      <td>56</td>\n",
       "      <td>2</td>\n",
       "      <td>6</td>\n",
       "      <td>2185</td>\n",
       "      <td>3040</td>\n",
       "      <td>4</td>\n",
       "    </tr>\n",
       "    <tr>\n",
       "      <th>2</th>\n",
       "      <td>8138</td>\n",
       "      <td>1</td>\n",
       "      <td>2023</td>\n",
       "      <td>25</td>\n",
       "      <td>0</td>\n",
       "      <td>2</td>\n",
       "      <td>2094</td>\n",
       "      <td>1863</td>\n",
       "      <td>3</td>\n",
       "    </tr>\n",
       "    <tr>\n",
       "      <th>3</th>\n",
       "      <td>9005</td>\n",
       "      <td>6</td>\n",
       "      <td>620860</td>\n",
       "      <td>777</td>\n",
       "      <td>161</td>\n",
       "      <td>153</td>\n",
       "      <td>2119</td>\n",
       "      <td>2546</td>\n",
       "      <td>8</td>\n",
       "    </tr>\n",
       "    <tr>\n",
       "      <th>4</th>\n",
       "      <td>122</td>\n",
       "      <td>1</td>\n",
       "      <td>666</td>\n",
       "      <td>1</td>\n",
       "      <td>0</td>\n",
       "      <td>0</td>\n",
       "      <td>2091</td>\n",
       "      <td>1963</td>\n",
       "      <td>4</td>\n",
       "    </tr>\n",
       "  </tbody>\n",
       "</table>\n",
       "</div>"
      ],
      "text/plain": [
       "   vidid  adview    views  likes  dislikes  comment  published  duration  \\\n",
       "0   5912      40  1031602   8523       363     1095       2168      2925   \n",
       "1   2741       2     1707     56         2        6       2185      3040   \n",
       "2   8138       1     2023     25         0        2       2094      1863   \n",
       "3   9005       6   620860    777       161      153       2119      2546   \n",
       "4    122       1      666      1         0        0       2091      1963   \n",
       "\n",
       "   category  \n",
       "0         6  \n",
       "1         4  \n",
       "2         3  \n",
       "3         8  \n",
       "4         4  "
      ]
     },
     "execution_count": 9,
     "metadata": {},
     "output_type": "execute_result"
    }
   ],
   "source": [
    "data.head()"
   ]
  },
  {
   "cell_type": "markdown",
   "metadata": {},
   "source": [
    "Converting time_in_sec for duration"
   ]
  },
  {
   "cell_type": "code",
   "execution_count": 10,
   "metadata": {},
   "outputs": [],
   "source": [
    "import datetime\n",
    "import time"
   ]
  },
  {
   "cell_type": "code",
   "execution_count": 11,
   "metadata": {},
   "outputs": [
    {
     "data": {
      "text/html": [
       "<div>\n",
       "<style scoped>\n",
       "    .dataframe tbody tr th:only-of-type {\n",
       "        vertical-align: middle;\n",
       "    }\n",
       "\n",
       "    .dataframe tbody tr th {\n",
       "        vertical-align: top;\n",
       "    }\n",
       "\n",
       "    .dataframe thead th {\n",
       "        text-align: right;\n",
       "    }\n",
       "</style>\n",
       "<table border=\"1\" class=\"dataframe\">\n",
       "  <thead>\n",
       "    <tr style=\"text-align: right;\">\n",
       "      <th></th>\n",
       "      <th>vidid</th>\n",
       "      <th>adview</th>\n",
       "      <th>views</th>\n",
       "      <th>likes</th>\n",
       "      <th>dislikes</th>\n",
       "      <th>comment</th>\n",
       "      <th>published</th>\n",
       "      <th>duration</th>\n",
       "      <th>category</th>\n",
       "    </tr>\n",
       "  </thead>\n",
       "  <tbody>\n",
       "    <tr>\n",
       "      <th>0</th>\n",
       "      <td>5912</td>\n",
       "      <td>40</td>\n",
       "      <td>1031602</td>\n",
       "      <td>8523</td>\n",
       "      <td>363</td>\n",
       "      <td>1095</td>\n",
       "      <td>2168</td>\n",
       "      <td>420</td>\n",
       "      <td>6</td>\n",
       "    </tr>\n",
       "    <tr>\n",
       "      <th>1</th>\n",
       "      <td>2741</td>\n",
       "      <td>2</td>\n",
       "      <td>1707</td>\n",
       "      <td>56</td>\n",
       "      <td>2</td>\n",
       "      <td>6</td>\n",
       "      <td>2185</td>\n",
       "      <td>540</td>\n",
       "      <td>4</td>\n",
       "    </tr>\n",
       "    <tr>\n",
       "      <th>2</th>\n",
       "      <td>8138</td>\n",
       "      <td>1</td>\n",
       "      <td>2023</td>\n",
       "      <td>25</td>\n",
       "      <td>0</td>\n",
       "      <td>2</td>\n",
       "      <td>2094</td>\n",
       "      <td>120</td>\n",
       "      <td>3</td>\n",
       "    </tr>\n",
       "    <tr>\n",
       "      <th>3</th>\n",
       "      <td>9005</td>\n",
       "      <td>6</td>\n",
       "      <td>620860</td>\n",
       "      <td>777</td>\n",
       "      <td>161</td>\n",
       "      <td>153</td>\n",
       "      <td>2119</td>\n",
       "      <td>240</td>\n",
       "      <td>8</td>\n",
       "    </tr>\n",
       "    <tr>\n",
       "      <th>4</th>\n",
       "      <td>122</td>\n",
       "      <td>1</td>\n",
       "      <td>666</td>\n",
       "      <td>1</td>\n",
       "      <td>0</td>\n",
       "      <td>0</td>\n",
       "      <td>2091</td>\n",
       "      <td>0</td>\n",
       "      <td>4</td>\n",
       "    </tr>\n",
       "  </tbody>\n",
       "</table>\n",
       "</div>"
      ],
      "text/plain": [
       "   vidid  adview    views  likes  dislikes  comment  published  duration  \\\n",
       "0   5912      40  1031602   8523       363     1095       2168       420   \n",
       "1   2741       2     1707     56         2        6       2185       540   \n",
       "2   8138       1     2023     25         0        2       2094       120   \n",
       "3   9005       6   620860    777       161      153       2119       240   \n",
       "4    122       1      666      1         0        0       2091         0   \n",
       "\n",
       "   category  \n",
       "0         6  \n",
       "1         4  \n",
       "2         3  \n",
       "3         8  \n",
       "4         4  "
      ]
     },
     "execution_count": 11,
     "metadata": {},
     "output_type": "execute_result"
    }
   ],
   "source": [
    "def checkli(x):\n",
    "    y = x[2:]\n",
    "    h = ''\n",
    "    m = ''\n",
    "    s = ''\n",
    "    mm = ''\n",
    "    p = ['H', 'M', 'S']\n",
    "    for i in y:\n",
    "        if i not in p:\n",
    "            mm += i\n",
    "        else:\n",
    "            if i == \"H\":\n",
    "                h = mm\n",
    "                mm = ''\n",
    "            elif i == \"M\":\n",
    "                m = mm\n",
    "                mm = ''\n",
    "    if h == '':\n",
    "        h = '00'\n",
    "    if m == '':\n",
    "        m = '00'\n",
    "    if s == '':\n",
    "        s = '00'\n",
    "    bp = h + ':' + m + ':' + s\n",
    "    return bp\n",
    "\n",
    "Train = pd.read_csv(\"train.csv\")\n",
    "mp = pd.read_csv(\"train.csv\")[\"duration\"]\n",
    "\n",
    "# Ensure 'checkli' handles unexpected or missing values\n",
    "time = mp.apply(checkli )\n",
    "\n",
    "def func_sec(time_string):\n",
    "    if not time_string:\n",
    "        return 0  # Return 0 for empty strings\n",
    "\n",
    "    h, m, s = time_string.split(':')\n",
    "    return int(h) * 3600 + int(m) * 60 + int(s)\n",
    "\n",
    "time1 = time.apply(func_sec)\n",
    "\n",
    "data[\"duration\"] = time1\n",
    "data.head()"
   ]
  },
  {
   "cell_type": "markdown",
   "metadata": {},
   "source": [
    "Visualization"
   ]
  },
  {
   "cell_type": "markdown",
   "metadata": {},
   "source": [
    "Individual plots"
   ]
  },
  {
   "cell_type": "code",
   "execution_count": 12,
   "metadata": {},
   "outputs": [
    {
     "data": {
      "image/png": "[encoded data removed]",
      "text/plain": [
       "<Figure size 432x288 with 1 Axes>"
      ]
     },
     "metadata": {
      "needs_background": "light"
     },
     "output_type": "display_data"
    }
   ],
   "source": [
    "plt.hist(data[\"category\"])\n",
    "plt.show()"
   ]
  },
  {
   "cell_type": "code",
   "execution_count": 13,
   "metadata": {},
   "outputs": [
    {
     "data": {
      "image/png": "[encoded data removed]",
      "text/plain": [
       "<Figure size 432x288 with 1 Axes>"
      ]
     },
     "metadata": {
      "needs_background": "light"
     },
     "output_type": "display_data"
    }
   ],
   "source": [
    "plt.plot(data[\"adview\"])\n",
    "plt.show()"
   ]
  },
  {
   "cell_type": "markdown",
   "metadata": {},
   "source": [
    "Remove videos with adview greater than 2000000 as outlier"
   ]
  },
  {
   "cell_type": "code",
   "execution_count": 14,
   "metadata": {},
   "outputs": [],
   "source": [
    "data=data[data[\"adview\"]<2000000]"
   ]
  },
  {
   "cell_type": "markdown",
   "metadata": {},
   "source": [
    "Heatmap"
   ]
  },
  {
   "cell_type": "code",
   "execution_count": 15,
   "metadata": {},
   "outputs": [],
   "source": [
    "import seaborn as sns "
   ]
  },
  {
   "cell_type": "code",
   "execution_count": 16,
   "metadata": {},
   "outputs": [
    {
     "data": {
      "image/png": "[encoded data removed]",
      "text/plain": [
       "<Figure size 720x576 with 2 Axes>"
      ]
     },
     "metadata": {
      "needs_background": "light"
     },
     "output_type": "display_data"
    }
   ],
   "source": [
    "f,ax= plt.subplots(figsize=(10,8))\n",
    "corr = data.corr()\n",
    "sns.heatmap(corr, mask=np.zeros_like(corr, dtype=np.bool), cmap='YlGnBu', square=True, ax=ax, annot=True)\n",
    "plt.show()"
   ]
  },
  {
   "cell_type": "markdown",
   "metadata": {},
   "source": [
    "Split data"
   ]
  },
  {
   "cell_type": "code",
   "execution_count": 17,
   "metadata": {},
   "outputs": [
    {
     "data": {
      "text/html": [
       "<div>\n",
       "<style scoped>\n",
       "    .dataframe tbody tr th:only-of-type {\n",
       "        vertical-align: middle;\n",
       "    }\n",
       "\n",
       "    .dataframe tbody tr th {\n",
       "        vertical-align: top;\n",
       "    }\n",
       "\n",
       "    .dataframe thead th {\n",
       "        text-align: right;\n",
       "    }\n",
       "</style>\n",
       "<table border=\"1\" class=\"dataframe\">\n",
       "  <thead>\n",
       "    <tr style=\"text-align: right;\">\n",
       "      <th></th>\n",
       "      <th>views</th>\n",
       "      <th>likes</th>\n",
       "      <th>dislikes</th>\n",
       "      <th>comment</th>\n",
       "      <th>published</th>\n",
       "      <th>duration</th>\n",
       "      <th>category</th>\n",
       "    </tr>\n",
       "  </thead>\n",
       "  <tbody>\n",
       "    <tr>\n",
       "      <th>0</th>\n",
       "      <td>1031602</td>\n",
       "      <td>8523</td>\n",
       "      <td>363</td>\n",
       "      <td>1095</td>\n",
       "      <td>2168</td>\n",
       "      <td>420</td>\n",
       "      <td>6</td>\n",
       "    </tr>\n",
       "    <tr>\n",
       "      <th>1</th>\n",
       "      <td>1707</td>\n",
       "      <td>56</td>\n",
       "      <td>2</td>\n",
       "      <td>6</td>\n",
       "      <td>2185</td>\n",
       "      <td>540</td>\n",
       "      <td>4</td>\n",
       "    </tr>\n",
       "    <tr>\n",
       "      <th>2</th>\n",
       "      <td>2023</td>\n",
       "      <td>25</td>\n",
       "      <td>0</td>\n",
       "      <td>2</td>\n",
       "      <td>2094</td>\n",
       "      <td>120</td>\n",
       "      <td>3</td>\n",
       "    </tr>\n",
       "    <tr>\n",
       "      <th>3</th>\n",
       "      <td>620860</td>\n",
       "      <td>777</td>\n",
       "      <td>161</td>\n",
       "      <td>153</td>\n",
       "      <td>2119</td>\n",
       "      <td>240</td>\n",
       "      <td>8</td>\n",
       "    </tr>\n",
       "    <tr>\n",
       "      <th>4</th>\n",
       "      <td>666</td>\n",
       "      <td>1</td>\n",
       "      <td>0</td>\n",
       "      <td>0</td>\n",
       "      <td>2091</td>\n",
       "      <td>0</td>\n",
       "      <td>4</td>\n",
       "    </tr>\n",
       "  </tbody>\n",
       "</table>\n",
       "</div>"
      ],
      "text/plain": [
       "     views  likes  dislikes  comment  published  duration  category\n",
       "0  1031602   8523       363     1095       2168       420         6\n",
       "1     1707     56         2        6       2185       540         4\n",
       "2     2023     25         0        2       2094       120         3\n",
       "3   620860    777       161      153       2119       240         8\n",
       "4      666      1         0        0       2091         0         4"
      ]
     },
     "execution_count": 17,
     "metadata": {},
     "output_type": "execute_result"
    }
   ],
   "source": [
    "y_train= pd.DataFrame(data=data.iloc[:,1].values, columns=['target'])\n",
    "data=data.drop([\"adview\"],axis=1)\n",
    "data=data.drop([\"vidid\"],axis=1)\n",
    "data.head()"
   ]
  },
  {
   "cell_type": "code",
   "execution_count": 18,
   "metadata": {},
   "outputs": [
    {
     "data": {
      "text/plain": [
       "(11708, 7)"
      ]
     },
     "execution_count": 18,
     "metadata": {},
     "output_type": "execute_result"
    }
   ],
   "source": [
    "from sklearn.model_selection import train_test_split\n",
    "X_train,X_test,y_train,y_test = train_test_split(data,y_train,test_size=0.2,random_state=42)\n",
    "X_train.shape "
   ]
  },
  {
   "cell_type": "markdown",
   "metadata": {},
   "source": [
    "Normalize Data"
   ]
  },
  {
   "cell_type": "code",
   "execution_count": 19,
   "metadata": {},
   "outputs": [],
   "source": [
    "from sklearn.preprocessing import MinMaxScaler\n",
    "scaler=MinMaxScaler()\n",
    "X_train=scaler.fit_transform(X_train)\n",
    "X_test=scaler.fit_transform(X_test)\n"
   ]
  },
  {
   "cell_type": "markdown",
   "metadata": {},
   "source": [
    "Evaluation Matrics"
   ]
  },
  {
   "cell_type": "code",
   "execution_count": 20,
   "metadata": {},
   "outputs": [],
   "source": [
    "from sklearn import metrics\n",
    "def print_error(x_test,y_test,model_name):\n",
    "    prediction = model_name.predict(X_test)\n",
    "    print('Mean Absolute Error:',metrics.mean_absolute_error(y_test,prediction))\n",
    "    print('Mean Squared Error:',metrics.mean_squared_error(y_test,prediction))\n",
    "    print('Root Mean Squared Error:',np.sqrt(metrics.mean_squared_error(y_test,prediction)))"
   ]
  },
  {
   "cell_type": "markdown",
   "metadata": {},
   "source": [
    "Linear Regression"
   ]
  },
  {
   "cell_type": "code",
   "execution_count": 21,
   "metadata": {},
   "outputs": [
    {
     "name": "stdout",
     "output_type": "stream",
     "text": [
      "Mean Absolute Error: 3707.8322578945586\n",
      "Mean Squared Error: 835653609.0203481\n",
      "Root Mean Squared Error: 28907.673877715377\n"
     ]
    }
   ],
   "source": [
    "from sklearn import linear_model\n",
    "linear_regression = linear_model.LinearRegression()\n",
    "linear_regression.fit(X_train,y_train)\n",
    "print_error(X_test,y_test,linear_regression)"
   ]
  },
  {
   "cell_type": "markdown",
   "metadata": {},
   "source": [
    "Decision Tree Regressor"
   ]
  },
  {
   "cell_type": "code",
   "execution_count": 22,
   "metadata": {},
   "outputs": [
    {
     "name": "stdout",
     "output_type": "stream",
     "text": [
      "Mean Absolute Error: 2396.940232240437\n",
      "Mean Squared Error: 652194587.755806\n",
      "Root Mean Squared Error: 25538.10070768392\n"
     ]
    }
   ],
   "source": [
    "from sklearn.tree import DecisionTreeRegressor\n",
    "decision_tree = DecisionTreeRegressor()\n",
    "decision_tree.fit(X_train,y_train)\n",
    "print_error(X_test,y_test,decision_tree)\n"
   ]
  },
  {
   "cell_type": "markdown",
   "metadata": {},
   "source": [
    "Random Forest Regressor"
   ]
  },
  {
   "cell_type": "code",
   "execution_count": 23,
   "metadata": {},
   "outputs": [
    {
     "name": "stderr",
     "output_type": "stream",
     "text": [
      "d:\\Anaconda\\envs\\Myprogram\\lib\\site-packages\\ipykernel_launcher.py:7: DataConversionWarning: A column-vector y was passed when a 1d array was expected. Please change the shape of y to (n_samples,), for example using ravel().\n",
      "  import sys\n"
     ]
    },
    {
     "name": "stdout",
     "output_type": "stream",
     "text": [
      "Mean Absolute Error: 3301.550416971338\n",
      "Mean Squared Error: 610930216.8122844\n",
      "Root Mean Squared Error: 24717.00258551357\n"
     ]
    }
   ],
   "source": [
    "from sklearn.ensemble import RandomForestRegressor\n",
    "n_estimators = 200\n",
    "max_depth = 25\n",
    "min_samples_split = 15\n",
    "min_samples_leaf = 2\n",
    "random_forest =RandomForestRegressor(n_estimators = n_estimators, max_depth = max_depth , min_samples_split=min_samples_split ,min_samples_leaf=min_samples_leaf)\n",
    "random_forest.fit(X_train,y_train)\n",
    "print_error(X_test,y_test,random_forest)"
   ]
  },
  {
   "cell_type": "markdown",
   "metadata": {},
   "source": [
    "Support Vector Regressor"
   ]
  },
  {
   "cell_type": "code",
   "execution_count": 24,
   "metadata": {},
   "outputs": [
    {
     "name": "stderr",
     "output_type": "stream",
     "text": [
      "d:\\Anaconda\\envs\\Myprogram\\lib\\site-packages\\sklearn\\utils\\validation.py:63: DataConversionWarning: A column-vector y was passed when a 1d array was expected. Please change the shape of y to (n_samples, ), for example using ravel().\n",
      "  return f(*args, **kwargs)\n"
     ]
    },
    {
     "name": "stdout",
     "output_type": "stream",
     "text": [
      "Mean Absolute Error: 3707.8322578945586\n",
      "Mean Squared Error: 835653609.0203481\n",
      "Root Mean Squared Error: 28907.673877715377\n"
     ]
    }
   ],
   "source": [
    "from sklearn.svm import SVR\n",
    "supportvector_regressor = SVR()\n",
    "supportvector_regressor.fit(X_train,y_train)\n",
    "print_error(X_test,y_test,linear_regression)"
   ]
  },
  {
   "cell_type": "markdown",
   "metadata": {},
   "source": [
    "Artificial Neural Network"
   ]
  },
  {
   "cell_type": "code",
   "execution_count": 25,
   "metadata": {},
   "outputs": [
    {
     "name": "stdout",
     "output_type": "stream",
     "text": [
      "Epoch 1/100\n",
      "366/366 [==============================] - 0s 608us/step - loss: 767407232.0000 - mean_squared_error: 767407232.0000\n",
      "Epoch 2/100\n",
      "366/366 [==============================] - 0s 522us/step - loss: 767403328.0000 - mean_squared_error: 767403328.0000\n",
      "Epoch 3/100\n",
      "366/366 [==============================] - 0s 545us/step - loss: 767390720.0000 - mean_squared_error: 767390720.0000\n",
      "Epoch 4/100\n",
      "366/366 [==============================] - 0s 545us/step - loss: 767367680.0000 - mean_squared_error: 767367680.0000\n",
      "Epoch 5/100\n",
      "366/366 [==============================] - 0s 548us/step - loss: 767327616.0000 - mean_squared_error: 767327616.0000\n",
      "Epoch 6/100\n",
      "366/366 [==============================] - 0s 527us/step - loss: 767275776.0000 - mean_squared_error: 767275776.0000\n",
      "Epoch 7/100\n",
      "366/366 [==============================] - 0s 685us/step - loss: 767205824.0000 - mean_squared_error: 767205824.0000\n",
      "Epoch 8/100\n",
      "366/366 [==============================] - 0s 691us/step - loss: 767125248.0000 - mean_squared_error: 767125248.0000 - loss: 1441274880.0000 - mean_squared_error: 1441274\n",
      "Epoch 9/100\n",
      "366/366 [==============================] - 0s 809us/step - loss: 767039104.0000 - mean_squared_error: 767039104.0000\n",
      "Epoch 10/100\n",
      "366/366 [==============================] - 0s 1ms/step - loss: 766942336.0000 - mean_squared_error: 766942336.0000\n",
      "Epoch 11/100\n",
      "366/366 [==============================] - 1s 2ms/step - loss: 766832128.0000 - mean_squared_error: 766832128.0000\n",
      "Epoch 12/100\n",
      "366/366 [==============================] - 0s 940us/step - loss: 766711808.0000 - mean_squared_error: 766711808.0000\n",
      "Epoch 13/100\n",
      "366/366 [==============================] - 0s 1ms/step - loss: 766584640.0000 - mean_squared_error: 766584640.0000\n",
      "Epoch 14/100\n",
      "366/366 [==============================] - 0s 986us/step - loss: 766454272.0000 - mean_squared_error: 766454272.0000\n",
      "Epoch 15/100\n",
      "366/366 [==============================] - 0s 985us/step - loss: 766312896.0000 - mean_squared_error: 766312896.0000\n",
      "Epoch 16/100\n",
      "366/366 [==============================] - 0s 860us/step - loss: 766173184.0000 - mean_squared_error: 766173184.0000\n",
      "Epoch 17/100\n",
      "366/366 [==============================] - 0s 826us/step - loss: 766033216.0000 - mean_squared_error: 766033216.0000\n",
      "Epoch 18/100\n",
      "366/366 [==============================] - 0s 826us/step - loss: 765889664.0000 - mean_squared_error: 765889664.0000\n",
      "Epoch 19/100\n",
      "366/366 [==============================] - 0s 860us/step - loss: 765751552.0000 - mean_squared_error: 765751552.0000\n",
      "Epoch 20/100\n",
      "366/366 [==============================] - 0s 810us/step - loss: 765616832.0000 - mean_squared_error: 765616832.0000\n",
      "Epoch 21/100\n",
      "366/366 [==============================] - 0s 1ms/step - loss: 765485888.0000 - mean_squared_error: 765485888.0000\n",
      "Epoch 22/100\n",
      "366/366 [==============================] - 0s 695us/step - loss: 765360320.0000 - mean_squared_error: 765360320.0000\n",
      "Epoch 23/100\n",
      "366/366 [==============================] - 0s 692us/step - loss: 765235968.0000 - mean_squared_error: 765235968.0000\n",
      "Epoch 24/100\n",
      "366/366 [==============================] - 0s 851us/step - loss: 765120896.0000 - mean_squared_error: 765120896.0000\n",
      "Epoch 25/100\n",
      "366/366 [==============================] - 0s 717us/step - loss: 765012672.0000 - mean_squared_error: 765012672.0000\n",
      "Epoch 26/100\n",
      "366/366 [==============================] - 0s 856us/step - loss: 764908992.0000 - mean_squared_error: 764908992.0000\n",
      "Epoch 27/100\n",
      "366/366 [==============================] - 0s 774us/step - loss: 764816832.0000 - mean_squared_error: 764816832.0000\n",
      "Epoch 28/100\n",
      "366/366 [==============================] - 0s 813us/step - loss: 764728704.0000 - mean_squared_error: 764728704.0000\n",
      "Epoch 29/100\n",
      "366/366 [==============================] - 0s 806us/step - loss: 764649344.0000 - mean_squared_error: 764649344.0000\n",
      "Epoch 30/100\n",
      "366/366 [==============================] - 0s 773us/step - loss: 764576000.0000 - mean_squared_error: 764576000.0000\n",
      "Epoch 31/100\n",
      "366/366 [==============================] - 0s 811us/step - loss: 764508160.0000 - mean_squared_error: 764508160.0000\n",
      "Epoch 32/100\n",
      "366/366 [==============================] - 0s 814us/step - loss: 764445824.0000 - mean_squared_error: 764445824.0000\n",
      "Epoch 33/100\n",
      "366/366 [==============================] - 0s 816us/step - loss: 764391232.0000 - mean_squared_error: 764391232.0000\n",
      "Epoch 34/100\n",
      "366/366 [==============================] - 0s 839us/step - loss: 764335680.0000 - mean_squared_error: 764335680.0000\n",
      "Epoch 35/100\n",
      "366/366 [==============================] - 0s 796us/step - loss: 764287296.0000 - mean_squared_error: 764287296.0000\n",
      "Epoch 36/100\n",
      "366/366 [==============================] - 0s 814us/step - loss: 764240128.0000 - mean_squared_error: 764240128.0000\n",
      "Epoch 37/100\n",
      "366/366 [==============================] - 0s 809us/step - loss: 764199936.0000 - mean_squared_error: 764199936.0000\n",
      "Epoch 38/100\n",
      "366/366 [==============================] - 0s 799us/step - loss: 764158656.0000 - mean_squared_error: 764158656.0000\n",
      "Epoch 39/100\n",
      "366/366 [==============================] - 0s 795us/step - loss: 764125056.0000 - mean_squared_error: 764125056.0000\n",
      "Epoch 40/100\n",
      "366/366 [==============================] - 0s 774us/step - loss: 764091392.0000 - mean_squared_error: 764091392.0000\n",
      "Epoch 41/100\n",
      "366/366 [==============================] - 0s 792us/step - loss: 764062464.0000 - mean_squared_error: 764062464.0000\n",
      "Epoch 42/100\n",
      "366/366 [==============================] - 0s 820us/step - loss: 764032320.0000 - mean_squared_error: 764032320.0000\n",
      "Epoch 43/100\n",
      "366/366 [==============================] - 0s 811us/step - loss: 764005504.0000 - mean_squared_error: 764005504.0000\n",
      "Epoch 44/100\n",
      "366/366 [==============================] - 0s 774us/step - loss: 763979840.0000 - mean_squared_error: 763979840.0000\n",
      "Epoch 45/100\n",
      "366/366 [==============================] - 0s 777us/step - loss: 763954496.0000 - mean_squared_error: 763954496.0000\n",
      "Epoch 46/100\n",
      "366/366 [==============================] - 0s 771us/step - loss: 763932416.0000 - mean_squared_error: 763932416.0000\n",
      "Epoch 47/100\n",
      "366/366 [==============================] - 0s 775us/step - loss: 763914816.0000 - mean_squared_error: 763914816.0000\n",
      "Epoch 48/100\n",
      "366/366 [==============================] - 0s 955us/step - loss: 763888768.0000 - mean_squared_error: 763888768.0000\n",
      "Epoch 49/100\n",
      "366/366 [==============================] - 0s 788us/step - loss: 763870528.0000 - mean_squared_error: 763870528.0000\n",
      "Epoch 50/100\n",
      "366/366 [==============================] - 0s 782us/step - loss: 763847552.0000 - mean_squared_error: 763847552.0000\n",
      "Epoch 51/100\n",
      "366/366 [==============================] - 0s 797us/step - loss: 763827968.0000 - mean_squared_error: 763827968.0000\n",
      "Epoch 52/100\n",
      "366/366 [==============================] - 0s 775us/step - loss: 763814464.0000 - mean_squared_error: 763814464.0000\n",
      "Epoch 53/100\n",
      "366/366 [==============================] - 0s 799us/step - loss: 763792704.0000 - mean_squared_error: 763792704.0000\n",
      "Epoch 54/100\n",
      "366/366 [==============================] - 0s 791us/step - loss: 763773952.0000 - mean_squared_error: 763773952.0000\n",
      "Epoch 55/100\n",
      "366/366 [==============================] - 0s 777us/step - loss: 763753664.0000 - mean_squared_error: 763753664.0000\n",
      "Epoch 56/100\n",
      "366/366 [==============================] - 0s 768us/step - loss: 763734464.0000 - mean_squared_error: 763734464.0000\n",
      "Epoch 57/100\n",
      "366/366 [==============================] - 0s 772us/step - loss: 763715328.0000 - mean_squared_error: 763715328.0000\n",
      "Epoch 58/100\n",
      "366/366 [==============================] - 0s 774us/step - loss: 763697024.0000 - mean_squared_error: 763697024.0000\n",
      "Epoch 59/100\n",
      "366/366 [==============================] - 0s 1ms/step - loss: 763678144.0000 - mean_squared_error: 763678144.0000\n",
      "Epoch 60/100\n",
      "366/366 [==============================] - 0s 918us/step - loss: 763664192.0000 - mean_squared_error: 763664192.0000\n",
      "Epoch 61/100\n",
      "366/366 [==============================] - 0s 795us/step - loss: 763643200.0000 - mean_squared_error: 763643200.0000\n",
      "Epoch 62/100\n",
      "366/366 [==============================] - 0s 773us/step - loss: 763625728.0000 - mean_squared_error: 763625728.0000\n",
      "Epoch 63/100\n",
      "366/366 [==============================] - 0s 819us/step - loss: 763605696.0000 - mean_squared_error: 763605696.0000\n",
      "Epoch 64/100\n",
      "366/366 [==============================] - 0s 754us/step - loss: 763589376.0000 - mean_squared_error: 763589376.0000\n",
      "Epoch 65/100\n",
      "366/366 [==============================] - 0s 900us/step - loss: 763572160.0000 - mean_squared_error: 763572160.0000\n",
      "Epoch 66/100\n",
      "366/366 [==============================] - 0s 957us/step - loss: 763552128.0000 - mean_squared_error: 763552128.0000\n",
      "Epoch 67/100\n",
      "366/366 [==============================] - 0s 1ms/step - loss: 763534208.0000 - mean_squared_error: 763534208.0000\n",
      "Epoch 68/100\n",
      "366/366 [==============================] - 0s 773us/step - loss: 763517184.0000 - mean_squared_error: 763517184.0000\n",
      "Epoch 69/100\n",
      "366/366 [==============================] - 0s 800us/step - loss: 763496960.0000 - mean_squared_error: 763496960.0000\n",
      "Epoch 70/100\n",
      "366/366 [==============================] - 0s 748us/step - loss: 763479744.0000 - mean_squared_error: 763479744.0000\n",
      "Epoch 71/100\n",
      "366/366 [==============================] - 0s 820us/step - loss: 763466304.0000 - mean_squared_error: 763466304.0000\n",
      "Epoch 72/100\n",
      "366/366 [==============================] - 0s 773us/step - loss: 763442560.0000 - mean_squared_error: 763442560.0000\n",
      "Epoch 73/100\n",
      "366/366 [==============================] - 0s 774us/step - loss: 763426176.0000 - mean_squared_error: 763426176.0000\n",
      "Epoch 74/100\n",
      "366/366 [==============================] - 0s 770us/step - loss: 763409152.0000 - mean_squared_error: 763409152.0000\n",
      "Epoch 75/100\n",
      "366/366 [==============================] - 0s 777us/step - loss: 763386688.0000 - mean_squared_error: 763386688.0000\n",
      "Epoch 76/100\n",
      "366/366 [==============================] - 0s 820us/step - loss: 763380672.0000 - mean_squared_error: 763380672.0000\n",
      "Epoch 77/100\n",
      "366/366 [==============================] - 0s 774us/step - loss: 763349952.0000 - mean_squared_error: 763349952.0000\n",
      "Epoch 78/100\n",
      "366/366 [==============================] - 0s 816us/step - loss: 763337152.0000 - mean_squared_error: 763337152.0000\n",
      "Epoch 79/100\n",
      "366/366 [==============================] - 0s 803us/step - loss: 763312576.0000 - mean_squared_error: 763312576.0000\n",
      "Epoch 80/100\n",
      "366/366 [==============================] - 0s 830us/step - loss: 763298560.0000 - mean_squared_error: 763298560.0000\n",
      "Epoch 81/100\n",
      "366/366 [==============================] - 0s 865us/step - loss: 763280576.0000 - mean_squared_error: 763280576.0000\n",
      "Epoch 82/100\n",
      "366/366 [==============================] - 0s 943us/step - loss: 763257728.0000 - mean_squared_error: 763257728.0000\n",
      "Epoch 83/100\n",
      "366/366 [==============================] - 0s 756us/step - loss: 763241728.0000 - mean_squared_error: 763241728.0000\n",
      "Epoch 84/100\n",
      "366/366 [==============================] - 0s 840us/step - loss: 763222656.0000 - mean_squared_error: 763222656.0000\n",
      "Epoch 85/100\n",
      "366/366 [==============================] - 0s 997us/step - loss: 763208128.0000 - mean_squared_error: 763208128.0000\n",
      "Epoch 86/100\n",
      "366/366 [==============================] - 0s 1ms/step - loss: 763189824.0000 - mean_squared_error: 763189824.0000\n",
      "Epoch 87/100\n",
      "366/366 [==============================] - 0s 1ms/step - loss: 763168512.0000 - mean_squared_error: 763168512.0000\n",
      "Epoch 88/100\n",
      "366/366 [==============================] - 0s 1ms/step - loss: 763150976.0000 - mean_squared_error: 763150976.0000\n",
      "Epoch 89/100\n",
      "366/366 [==============================] - 0s 1ms/step - loss: 763135680.0000 - mean_squared_error: 763135680.0000\n",
      "Epoch 90/100\n",
      "366/366 [==============================] - 0s 971us/step - loss: 763116032.0000 - mean_squared_error: 763116032.0000\n",
      "Epoch 91/100\n",
      "366/366 [==============================] - 0s 1ms/step - loss: 763098688.0000 - mean_squared_error: 763098688.0000\n",
      "Epoch 92/100\n",
      "366/366 [==============================] - 0s 979us/step - loss: 763083648.0000 - mean_squared_error: 763083648.0000\n",
      "Epoch 93/100\n",
      "366/366 [==============================] - 0s 962us/step - loss: 763066880.0000 - mean_squared_error: 763066880.0000\n",
      "Epoch 94/100\n",
      "366/366 [==============================] - 0s 998us/step - loss: 763042368.0000 - mean_squared_error: 763042368.0000\n",
      "Epoch 95/100\n",
      "366/366 [==============================] - 0s 978us/step - loss: 763029376.0000 - mean_squared_error: 763029376.0000\n",
      "Epoch 96/100\n",
      "366/366 [==============================] - 0s 1ms/step - loss: 763012608.0000 - mean_squared_error: 763012608.0000\n",
      "Epoch 97/100\n",
      "366/366 [==============================] - 0s 1ms/step - loss: 762992896.0000 - mean_squared_error: 762992896.0000\n",
      "Epoch 98/100\n",
      "366/366 [==============================] - 0s 994us/step - loss: 762972736.0000 - mean_squared_error: 762972736.0000\n",
      "Epoch 99/100\n",
      "366/366 [==============================] - 0s 1ms/step - loss: 762958272.0000 - mean_squared_error: 762958272.0000\n",
      "Epoch 100/100\n",
      "366/366 [==============================] - 0s 1ms/step - loss: 762940608.0000 - mean_squared_error: 762940608.0000\n"
     ]
    }
   ],
   "source": [
    "import keras\n",
    "from keras.layers import Dense\n",
    "ann = keras.models.Sequential([Dense(6,activation=\"relu\",input_shape = X_train.shape[1:]),Dense(6,activation=\"relu\"),Dense(1)])\n",
    "optimizer = keras.optimizers.Adam()\n",
    "loss=keras.losses.mean_squared_error\n",
    "ann.compile(optimizer=optimizer,loss=loss,metrics=[\"mean_squared_error\"])\n",
    "\n",
    "history = ann.fit(X_train,y_train,epochs=100)"
   ]
  },
  {
   "cell_type": "code",
   "execution_count": 26,
   "metadata": {},
   "outputs": [
    {
     "name": "stdout",
     "output_type": "stream",
     "text": [
      "Model: \"sequential\"\n",
      "_________________________________________________________________\n",
      "Layer (type)                 Output Shape              Param #   \n",
      "=================================================================\n",
      "dense (Dense)                (None, 6)                 48        \n",
      "_________________________________________________________________\n",
      "dense_1 (Dense)              (None, 6)                 42        \n",
      "_________________________________________________________________\n",
      "dense_2 (Dense)              (None, 1)                 7         \n",
      "=================================================================\n",
      "Total params: 97\n",
      "Trainable params: 97\n",
      "Non-trainable params: 0\n",
      "_________________________________________________________________\n"
     ]
    }
   ],
   "source": [
    "ann.summary()"
   ]
  },
  {
   "cell_type": "code",
   "execution_count": 27,
   "metadata": {},
   "outputs": [
    {
     "name": "stdout",
     "output_type": "stream",
     "text": [
      "Mean Absolute Error: 3175.6962546228224\n",
      "Mean Squared Error: 829165497.8648493\n",
      "Root Mean Squared Error: 28795.23394356867\n"
     ]
    }
   ],
   "source": [
    "print_error(X_test,y_test,ann)"
   ]
  },
  {
   "cell_type": "markdown",
   "metadata": {},
   "source": [
    "Saving Scikitlearn models"
   ]
  },
  {
   "cell_type": "code",
   "execution_count": 28,
   "metadata": {},
   "outputs": [
    {
     "data": {
      "text/plain": [
       "['decisiontree_youtubeadview.pkl']"
      ]
     },
     "execution_count": 28,
     "metadata": {},
     "output_type": "execute_result"
    }
   ],
   "source": [
    "import joblib\n",
    "joblib.dump(decision_tree,\"decisiontree_youtubeadview.pkl\")\n"
   ]
  },
  {
   "cell_type": "markdown",
   "metadata": {},
   "source": [
    "Saving keras Artificial Neural Network Model"
   ]
  },
  {
   "cell_type": "code",
   "execution_count": 29,
   "metadata": {},
   "outputs": [],
   "source": [
    "ann.save(\"ann_youtubeadview.h5\")"
   ]
  },
  {
   "cell_type": "markdown",
   "metadata": {},
   "source": [
    "Time to test the data"
   ]
  },
  {
   "cell_type": "code",
   "execution_count": 30,
   "metadata": {},
   "outputs": [],
   "source": [
    "data_test = pd.read_csv(\"test (2).csv\")"
   ]
  },
  {
   "cell_type": "code",
   "execution_count": 31,
   "metadata": {},
   "outputs": [
    {
     "data": {
      "text/html": [
       "<div>\n",
       "<style scoped>\n",
       "    .dataframe tbody tr th:only-of-type {\n",
       "        vertical-align: middle;\n",
       "    }\n",
       "\n",
       "    .dataframe tbody tr th {\n",
       "        vertical-align: top;\n",
       "    }\n",
       "\n",
       "    .dataframe thead th {\n",
       "        text-align: right;\n",
       "    }\n",
       "</style>\n",
       "<table border=\"1\" class=\"dataframe\">\n",
       "  <thead>\n",
       "    <tr style=\"text-align: right;\">\n",
       "      <th></th>\n",
       "      <th>vidid</th>\n",
       "      <th>views</th>\n",
       "      <th>likes</th>\n",
       "      <th>dislikes</th>\n",
       "      <th>comment</th>\n",
       "      <th>published</th>\n",
       "      <th>duration</th>\n",
       "      <th>category</th>\n",
       "    </tr>\n",
       "  </thead>\n",
       "  <tbody>\n",
       "    <tr>\n",
       "      <th>0</th>\n",
       "      <td>VID_1054</td>\n",
       "      <td>440238</td>\n",
       "      <td>6153</td>\n",
       "      <td>218</td>\n",
       "      <td>1377</td>\n",
       "      <td>2017-02-18</td>\n",
       "      <td>PT7M29S</td>\n",
       "      <td>B</td>\n",
       "    </tr>\n",
       "    <tr>\n",
       "      <th>1</th>\n",
       "      <td>VID_18629</td>\n",
       "      <td>1040132</td>\n",
       "      <td>8171</td>\n",
       "      <td>340</td>\n",
       "      <td>1047</td>\n",
       "      <td>2016-06-28</td>\n",
       "      <td>PT6M29S</td>\n",
       "      <td>F</td>\n",
       "    </tr>\n",
       "    <tr>\n",
       "      <th>2</th>\n",
       "      <td>VID_13967</td>\n",
       "      <td>28534</td>\n",
       "      <td>31</td>\n",
       "      <td>11</td>\n",
       "      <td>1</td>\n",
       "      <td>2014-03-10</td>\n",
       "      <td>PT37M54S</td>\n",
       "      <td>D</td>\n",
       "    </tr>\n",
       "    <tr>\n",
       "      <th>3</th>\n",
       "      <td>VID_19442</td>\n",
       "      <td>1316715</td>\n",
       "      <td>2284</td>\n",
       "      <td>250</td>\n",
       "      <td>274</td>\n",
       "      <td>2010-06-05</td>\n",
       "      <td>PT9M55S</td>\n",
       "      <td>G</td>\n",
       "    </tr>\n",
       "    <tr>\n",
       "      <th>4</th>\n",
       "      <td>VID_770</td>\n",
       "      <td>1893173</td>\n",
       "      <td>2519</td>\n",
       "      <td>225</td>\n",
       "      <td>116</td>\n",
       "      <td>2016-09-03</td>\n",
       "      <td>PT3M8S</td>\n",
       "      <td>B</td>\n",
       "    </tr>\n",
       "  </tbody>\n",
       "</table>\n",
       "</div>"
      ],
      "text/plain": [
       "       vidid    views likes dislikes comment   published  duration category\n",
       "0   VID_1054   440238  6153      218    1377  2017-02-18   PT7M29S        B\n",
       "1  VID_18629  1040132  8171      340    1047  2016-06-28   PT6M29S        F\n",
       "2  VID_13967    28534    31       11       1  2014-03-10  PT37M54S        D\n",
       "3  VID_19442  1316715  2284      250     274  2010-06-05   PT9M55S        G\n",
       "4    VID_770  1893173  2519      225     116  2016-09-03    PT3M8S        B"
      ]
     },
     "execution_count": 31,
     "metadata": {},
     "output_type": "execute_result"
    }
   ],
   "source": [
    "data_test.head()"
   ]
  },
  {
   "cell_type": "code",
   "execution_count": 32,
   "metadata": {},
   "outputs": [],
   "source": [
    "from tensorflow.keras.models import load_model\n",
    "model = load_model(\"ann_youtubeadview.h5\")"
   ]
  },
  {
   "cell_type": "markdown",
   "metadata": {},
   "source": [
    "Removing character \"F\" present in data"
   ]
  },
  {
   "cell_type": "code",
   "execution_count": 33,
   "metadata": {},
   "outputs": [],
   "source": [
    "data_test=data_test[data_test.views!='F']\n",
    "data_test=data_test[data_test.likes!='F']\n",
    "data_test=data_test[data_test.dislikes!='F']\n",
    "data_test=data_test[data_test.comment!='F']"
   ]
  },
  {
   "cell_type": "code",
   "execution_count": 34,
   "metadata": {},
   "outputs": [
    {
     "data": {
      "text/html": [
       "<div>\n",
       "<style scoped>\n",
       "    .dataframe tbody tr th:only-of-type {\n",
       "        vertical-align: middle;\n",
       "    }\n",
       "\n",
       "    .dataframe tbody tr th {\n",
       "        vertical-align: top;\n",
       "    }\n",
       "\n",
       "    .dataframe thead th {\n",
       "        text-align: right;\n",
       "    }\n",
       "</style>\n",
       "<table border=\"1\" class=\"dataframe\">\n",
       "  <thead>\n",
       "    <tr style=\"text-align: right;\">\n",
       "      <th></th>\n",
       "      <th>vidid</th>\n",
       "      <th>views</th>\n",
       "      <th>likes</th>\n",
       "      <th>dislikes</th>\n",
       "      <th>comment</th>\n",
       "      <th>published</th>\n",
       "      <th>duration</th>\n",
       "      <th>category</th>\n",
       "    </tr>\n",
       "  </thead>\n",
       "  <tbody>\n",
       "    <tr>\n",
       "      <th>0</th>\n",
       "      <td>VID_1054</td>\n",
       "      <td>440238</td>\n",
       "      <td>6153</td>\n",
       "      <td>218</td>\n",
       "      <td>1377</td>\n",
       "      <td>2017-02-18</td>\n",
       "      <td>PT7M29S</td>\n",
       "      <td>B</td>\n",
       "    </tr>\n",
       "    <tr>\n",
       "      <th>1</th>\n",
       "      <td>VID_18629</td>\n",
       "      <td>1040132</td>\n",
       "      <td>8171</td>\n",
       "      <td>340</td>\n",
       "      <td>1047</td>\n",
       "      <td>2016-06-28</td>\n",
       "      <td>PT6M29S</td>\n",
       "      <td>F</td>\n",
       "    </tr>\n",
       "    <tr>\n",
       "      <th>2</th>\n",
       "      <td>VID_13967</td>\n",
       "      <td>28534</td>\n",
       "      <td>31</td>\n",
       "      <td>11</td>\n",
       "      <td>1</td>\n",
       "      <td>2014-03-10</td>\n",
       "      <td>PT37M54S</td>\n",
       "      <td>D</td>\n",
       "    </tr>\n",
       "    <tr>\n",
       "      <th>3</th>\n",
       "      <td>VID_19442</td>\n",
       "      <td>1316715</td>\n",
       "      <td>2284</td>\n",
       "      <td>250</td>\n",
       "      <td>274</td>\n",
       "      <td>2010-06-05</td>\n",
       "      <td>PT9M55S</td>\n",
       "      <td>G</td>\n",
       "    </tr>\n",
       "    <tr>\n",
       "      <th>4</th>\n",
       "      <td>VID_770</td>\n",
       "      <td>1893173</td>\n",
       "      <td>2519</td>\n",
       "      <td>225</td>\n",
       "      <td>116</td>\n",
       "      <td>2016-09-03</td>\n",
       "      <td>PT3M8S</td>\n",
       "      <td>B</td>\n",
       "    </tr>\n",
       "  </tbody>\n",
       "</table>\n",
       "</div>"
      ],
      "text/plain": [
       "       vidid    views likes dislikes comment   published  duration category\n",
       "0   VID_1054   440238  6153      218    1377  2017-02-18   PT7M29S        B\n",
       "1  VID_18629  1040132  8171      340    1047  2016-06-28   PT6M29S        F\n",
       "2  VID_13967    28534    31       11       1  2014-03-10  PT37M54S        D\n",
       "3  VID_19442  1316715  2284      250     274  2010-06-05   PT9M55S        G\n",
       "4    VID_770  1893173  2519      225     116  2016-09-03    PT3M8S        B"
      ]
     },
     "execution_count": 34,
     "metadata": {},
     "output_type": "execute_result"
    }
   ],
   "source": [
    "data_test.head()"
   ]
  },
  {
   "cell_type": "markdown",
   "metadata": {},
   "source": [
    "Assigning each category a number for Category feature"
   ]
  },
  {
   "cell_type": "code",
   "execution_count": 35,
   "metadata": {},
   "outputs": [
    {
     "data": {
      "text/html": [
       "<div>\n",
       "<style scoped>\n",
       "    .dataframe tbody tr th:only-of-type {\n",
       "        vertical-align: middle;\n",
       "    }\n",
       "\n",
       "    .dataframe tbody tr th {\n",
       "        vertical-align: top;\n",
       "    }\n",
       "\n",
       "    .dataframe thead th {\n",
       "        text-align: right;\n",
       "    }\n",
       "</style>\n",
       "<table border=\"1\" class=\"dataframe\">\n",
       "  <thead>\n",
       "    <tr style=\"text-align: right;\">\n",
       "      <th></th>\n",
       "      <th>vidid</th>\n",
       "      <th>views</th>\n",
       "      <th>likes</th>\n",
       "      <th>dislikes</th>\n",
       "      <th>comment</th>\n",
       "      <th>published</th>\n",
       "      <th>duration</th>\n",
       "      <th>category</th>\n",
       "    </tr>\n",
       "  </thead>\n",
       "  <tbody>\n",
       "    <tr>\n",
       "      <th>0</th>\n",
       "      <td>VID_1054</td>\n",
       "      <td>440238</td>\n",
       "      <td>6153</td>\n",
       "      <td>218</td>\n",
       "      <td>1377</td>\n",
       "      <td>2017-02-18</td>\n",
       "      <td>PT7M29S</td>\n",
       "      <td>2</td>\n",
       "    </tr>\n",
       "    <tr>\n",
       "      <th>1</th>\n",
       "      <td>VID_18629</td>\n",
       "      <td>1040132</td>\n",
       "      <td>8171</td>\n",
       "      <td>340</td>\n",
       "      <td>1047</td>\n",
       "      <td>2016-06-28</td>\n",
       "      <td>PT6M29S</td>\n",
       "      <td>6</td>\n",
       "    </tr>\n",
       "    <tr>\n",
       "      <th>2</th>\n",
       "      <td>VID_13967</td>\n",
       "      <td>28534</td>\n",
       "      <td>31</td>\n",
       "      <td>11</td>\n",
       "      <td>1</td>\n",
       "      <td>2014-03-10</td>\n",
       "      <td>PT37M54S</td>\n",
       "      <td>4</td>\n",
       "    </tr>\n",
       "    <tr>\n",
       "      <th>3</th>\n",
       "      <td>VID_19442</td>\n",
       "      <td>1316715</td>\n",
       "      <td>2284</td>\n",
       "      <td>250</td>\n",
       "      <td>274</td>\n",
       "      <td>2010-06-05</td>\n",
       "      <td>PT9M55S</td>\n",
       "      <td>7</td>\n",
       "    </tr>\n",
       "    <tr>\n",
       "      <th>4</th>\n",
       "      <td>VID_770</td>\n",
       "      <td>1893173</td>\n",
       "      <td>2519</td>\n",
       "      <td>225</td>\n",
       "      <td>116</td>\n",
       "      <td>2016-09-03</td>\n",
       "      <td>PT3M8S</td>\n",
       "      <td>2</td>\n",
       "    </tr>\n",
       "  </tbody>\n",
       "</table>\n",
       "</div>"
      ],
      "text/plain": [
       "       vidid    views likes dislikes comment   published  duration  category\n",
       "0   VID_1054   440238  6153      218    1377  2017-02-18   PT7M29S         2\n",
       "1  VID_18629  1040132  8171      340    1047  2016-06-28   PT6M29S         6\n",
       "2  VID_13967    28534    31       11       1  2014-03-10  PT37M54S         4\n",
       "3  VID_19442  1316715  2284      250     274  2010-06-05   PT9M55S         7\n",
       "4    VID_770  1893173  2519      225     116  2016-09-03    PT3M8S         2"
      ]
     },
     "execution_count": 35,
     "metadata": {},
     "output_type": "execute_result"
    }
   ],
   "source": [
    "category={'A': 1,'B':2,'C':3,'D':4,'E':5,'F':6,'G':7,'H':8}\n",
    "data_test[\"category\"]=data_test[\"category\"].map(category)\n",
    "data_test.head()"
   ]
  },
  {
   "cell_type": "markdown",
   "metadata": {},
   "source": [
    "Convert values to integers for views, likes, comments, dislikes and adview"
   ]
  },
  {
   "cell_type": "code",
   "execution_count": 36,
   "metadata": {},
   "outputs": [],
   "source": [
    "data_test[\"views\"] = pd.to_numeric(data_test[\"views\"])\n",
    "data_test[\"comment\"] = pd.to_numeric(data_test[\"comment\"])\n",
    "data_test[\"likes\"] = pd.to_numeric(data_test[\"likes\"])\n",
    "data_test[\"dislikes\"] = pd.to_numeric(data_test[\"dislikes\"])\n",
    "column_vidid=data_test['vidid']"
   ]
  },
  {
   "cell_type": "markdown",
   "metadata": {},
   "source": [
    "Endoding features like Category, Duration, Vidid"
   ]
  },
  {
   "cell_type": "code",
   "execution_count": 37,
   "metadata": {},
   "outputs": [
    {
     "data": {
      "text/html": [
       "<div>\n",
       "<style scoped>\n",
       "    .dataframe tbody tr th:only-of-type {\n",
       "        vertical-align: middle;\n",
       "    }\n",
       "\n",
       "    .dataframe tbody tr th {\n",
       "        vertical-align: top;\n",
       "    }\n",
       "\n",
       "    .dataframe thead th {\n",
       "        text-align: right;\n",
       "    }\n",
       "</style>\n",
       "<table border=\"1\" class=\"dataframe\">\n",
       "  <thead>\n",
       "    <tr style=\"text-align: right;\">\n",
       "      <th></th>\n",
       "      <th>vidid</th>\n",
       "      <th>views</th>\n",
       "      <th>likes</th>\n",
       "      <th>dislikes</th>\n",
       "      <th>comment</th>\n",
       "      <th>published</th>\n",
       "      <th>duration</th>\n",
       "      <th>category</th>\n",
       "    </tr>\n",
       "  </thead>\n",
       "  <tbody>\n",
       "    <tr>\n",
       "      <th>0</th>\n",
       "      <td>231</td>\n",
       "      <td>440238</td>\n",
       "      <td>6153</td>\n",
       "      <td>218</td>\n",
       "      <td>1377</td>\n",
       "      <td>2053</td>\n",
       "      <td>2115</td>\n",
       "      <td>2</td>\n",
       "    </tr>\n",
       "    <tr>\n",
       "      <th>1</th>\n",
       "      <td>3444</td>\n",
       "      <td>1040132</td>\n",
       "      <td>8171</td>\n",
       "      <td>340</td>\n",
       "      <td>1047</td>\n",
       "      <td>1825</td>\n",
       "      <td>2055</td>\n",
       "      <td>6</td>\n",
       "    </tr>\n",
       "    <tr>\n",
       "      <th>2</th>\n",
       "      <td>1593</td>\n",
       "      <td>28534</td>\n",
       "      <td>31</td>\n",
       "      <td>11</td>\n",
       "      <td>1</td>\n",
       "      <td>1009</td>\n",
       "      <td>1506</td>\n",
       "      <td>4</td>\n",
       "    </tr>\n",
       "    <tr>\n",
       "      <th>3</th>\n",
       "      <td>3775</td>\n",
       "      <td>1316715</td>\n",
       "      <td>2284</td>\n",
       "      <td>250</td>\n",
       "      <td>274</td>\n",
       "      <td>116</td>\n",
       "      <td>2265</td>\n",
       "      <td>7</td>\n",
       "    </tr>\n",
       "    <tr>\n",
       "      <th>4</th>\n",
       "      <td>7644</td>\n",
       "      <td>1893173</td>\n",
       "      <td>2519</td>\n",
       "      <td>225</td>\n",
       "      <td>116</td>\n",
       "      <td>1892</td>\n",
       "      <td>1625</td>\n",
       "      <td>2</td>\n",
       "    </tr>\n",
       "  </tbody>\n",
       "</table>\n",
       "</div>"
      ],
      "text/plain": [
       "   vidid    views  likes  dislikes  comment  published  duration  category\n",
       "0    231   440238   6153       218     1377       2053      2115         2\n",
       "1   3444  1040132   8171       340     1047       1825      2055         6\n",
       "2   1593    28534     31        11        1       1009      1506         4\n",
       "3   3775  1316715   2284       250      274        116      2265         7\n",
       "4   7644  1893173   2519       225      116       1892      1625         2"
      ]
     },
     "execution_count": 37,
     "metadata": {},
     "output_type": "execute_result"
    }
   ],
   "source": [
    "from sklearn.preprocessing import LabelEncoder\n",
    "data_test['duration']=LabelEncoder().fit_transform(data_test['duration'])\n",
    "data_test['vidid']=LabelEncoder().fit_transform(data_test['vidid'])\n",
    "data_test['published']=LabelEncoder().fit_transform(data_test['published'])\n",
    "data_test.head()"
   ]
  },
  {
   "cell_type": "markdown",
   "metadata": {},
   "source": [
    "Convert Time_in_sec for duration"
   ]
  },
  {
   "cell_type": "code",
   "execution_count": 38,
   "metadata": {},
   "outputs": [],
   "source": [
    "import datetime\n",
    "import time\n",
    "def checki(x):\n",
    "  y = x[2:]\n",
    "  h = ''\n",
    "  m = ''\n",
    "  s = ''\n",
    "  mm = ''\n",
    "  P = ['H','M','S']\n",
    "  for i in y:\n",
    "    if i not in P:\n",
    "      mm+=i\n",
    "    else:\n",
    "      if(i==\"H\"):\n",
    "        h = mm\n",
    "        mm = ''\n",
    "      elif(i == \"M\"):\n",
    "        m = mm\n",
    "        mm = ''\n",
    "      else:\n",
    "        s = mm\n",
    "        mm = ''\n",
    "  if(h==''):\n",
    "    h = '00'\n",
    "  if(m == ''):\n",
    "    m = '00'\n",
    "  if(s==''):\n",
    "    s='00'\n",
    "  bp = h+':'+m+':'+s\n",
    "  return bp\n"
   ]
  },
  {
   "cell_type": "code",
   "execution_count": 39,
   "metadata": {},
   "outputs": [
    {
     "data": {
      "text/html": [
       "<div>\n",
       "<style scoped>\n",
       "    .dataframe tbody tr th:only-of-type {\n",
       "        vertical-align: middle;\n",
       "    }\n",
       "\n",
       "    .dataframe tbody tr th {\n",
       "        vertical-align: top;\n",
       "    }\n",
       "\n",
       "    .dataframe thead th {\n",
       "        text-align: right;\n",
       "    }\n",
       "</style>\n",
       "<table border=\"1\" class=\"dataframe\">\n",
       "  <thead>\n",
       "    <tr style=\"text-align: right;\">\n",
       "      <th></th>\n",
       "      <th>vidid</th>\n",
       "      <th>views</th>\n",
       "      <th>likes</th>\n",
       "      <th>dislikes</th>\n",
       "      <th>comment</th>\n",
       "      <th>published</th>\n",
       "      <th>duration</th>\n",
       "      <th>category</th>\n",
       "    </tr>\n",
       "  </thead>\n",
       "  <tbody>\n",
       "    <tr>\n",
       "      <th>0</th>\n",
       "      <td>231</td>\n",
       "      <td>440238</td>\n",
       "      <td>6153</td>\n",
       "      <td>218</td>\n",
       "      <td>1377</td>\n",
       "      <td>2053</td>\n",
       "      <td>449</td>\n",
       "      <td>2</td>\n",
       "    </tr>\n",
       "    <tr>\n",
       "      <th>1</th>\n",
       "      <td>3444</td>\n",
       "      <td>1040132</td>\n",
       "      <td>8171</td>\n",
       "      <td>340</td>\n",
       "      <td>1047</td>\n",
       "      <td>1825</td>\n",
       "      <td>389</td>\n",
       "      <td>6</td>\n",
       "    </tr>\n",
       "    <tr>\n",
       "      <th>2</th>\n",
       "      <td>1593</td>\n",
       "      <td>28534</td>\n",
       "      <td>31</td>\n",
       "      <td>11</td>\n",
       "      <td>1</td>\n",
       "      <td>1009</td>\n",
       "      <td>2274</td>\n",
       "      <td>4</td>\n",
       "    </tr>\n",
       "    <tr>\n",
       "      <th>3</th>\n",
       "      <td>3775</td>\n",
       "      <td>1316715</td>\n",
       "      <td>2284</td>\n",
       "      <td>250</td>\n",
       "      <td>274</td>\n",
       "      <td>116</td>\n",
       "      <td>595</td>\n",
       "      <td>7</td>\n",
       "    </tr>\n",
       "    <tr>\n",
       "      <th>4</th>\n",
       "      <td>7644</td>\n",
       "      <td>1893173</td>\n",
       "      <td>2519</td>\n",
       "      <td>225</td>\n",
       "      <td>116</td>\n",
       "      <td>1892</td>\n",
       "      <td>188</td>\n",
       "      <td>2</td>\n",
       "    </tr>\n",
       "  </tbody>\n",
       "</table>\n",
       "</div>"
      ],
      "text/plain": [
       "   vidid    views  likes  dislikes  comment  published  duration  category\n",
       "0    231   440238   6153       218     1377       2053       449         2\n",
       "1   3444  1040132   8171       340     1047       1825       389         6\n",
       "2   1593    28534     31        11        1       1009      2274         4\n",
       "3   3775  1316715   2284       250      274        116       595         7\n",
       "4   7644  1893173   2519       225      116       1892       188         2"
      ]
     },
     "execution_count": 39,
     "metadata": {},
     "output_type": "execute_result"
    }
   ],
   "source": [
    "train = pd.read_csv(\"test (2).csv\")\n",
    "mp= pd.read_csv(\"test (2).csv\")[\"duration\"]\n",
    "time = mp.apply(checki)\n",
    "\n",
    "def func_sec(time_string):\n",
    "  h, m, s = time_string.split(':')\n",
    "  return int(h) * 3600 + int(m) * 60 + int(s)\n",
    "\n",
    "time1=time.apply(func_sec)\n",
    "\n",
    "data_test[\"duration\"]=time1\n",
    "data_test.head()"
   ]
  },
  {
   "cell_type": "code",
   "execution_count": 40,
   "metadata": {},
   "outputs": [
    {
     "data": {
      "text/html": [
       "<div>\n",
       "<style scoped>\n",
       "    .dataframe tbody tr th:only-of-type {\n",
       "        vertical-align: middle;\n",
       "    }\n",
       "\n",
       "    .dataframe tbody tr th {\n",
       "        vertical-align: top;\n",
       "    }\n",
       "\n",
       "    .dataframe thead th {\n",
       "        text-align: right;\n",
       "    }\n",
       "</style>\n",
       "<table border=\"1\" class=\"dataframe\">\n",
       "  <thead>\n",
       "    <tr style=\"text-align: right;\">\n",
       "      <th></th>\n",
       "      <th>views</th>\n",
       "      <th>likes</th>\n",
       "      <th>dislikes</th>\n",
       "      <th>comment</th>\n",
       "      <th>published</th>\n",
       "      <th>duration</th>\n",
       "      <th>category</th>\n",
       "    </tr>\n",
       "  </thead>\n",
       "  <tbody>\n",
       "    <tr>\n",
       "      <th>0</th>\n",
       "      <td>440238</td>\n",
       "      <td>6153</td>\n",
       "      <td>218</td>\n",
       "      <td>1377</td>\n",
       "      <td>2053</td>\n",
       "      <td>449</td>\n",
       "      <td>2</td>\n",
       "    </tr>\n",
       "    <tr>\n",
       "      <th>1</th>\n",
       "      <td>1040132</td>\n",
       "      <td>8171</td>\n",
       "      <td>340</td>\n",
       "      <td>1047</td>\n",
       "      <td>1825</td>\n",
       "      <td>389</td>\n",
       "      <td>6</td>\n",
       "    </tr>\n",
       "    <tr>\n",
       "      <th>2</th>\n",
       "      <td>28534</td>\n",
       "      <td>31</td>\n",
       "      <td>11</td>\n",
       "      <td>1</td>\n",
       "      <td>1009</td>\n",
       "      <td>2274</td>\n",
       "      <td>4</td>\n",
       "    </tr>\n",
       "    <tr>\n",
       "      <th>3</th>\n",
       "      <td>1316715</td>\n",
       "      <td>2284</td>\n",
       "      <td>250</td>\n",
       "      <td>274</td>\n",
       "      <td>116</td>\n",
       "      <td>595</td>\n",
       "      <td>7</td>\n",
       "    </tr>\n",
       "    <tr>\n",
       "      <th>4</th>\n",
       "      <td>1893173</td>\n",
       "      <td>2519</td>\n",
       "      <td>225</td>\n",
       "      <td>116</td>\n",
       "      <td>1892</td>\n",
       "      <td>188</td>\n",
       "      <td>2</td>\n",
       "    </tr>\n",
       "  </tbody>\n",
       "</table>\n",
       "</div>"
      ],
      "text/plain": [
       "     views  likes  dislikes  comment  published  duration  category\n",
       "0   440238   6153       218     1377       2053       449         2\n",
       "1  1040132   8171       340     1047       1825       389         6\n",
       "2    28534     31        11        1       1009      2274         4\n",
       "3  1316715   2284       250      274        116       595         7\n",
       "4  1893173   2519       225      116       1892       188         2"
      ]
     },
     "execution_count": 40,
     "metadata": {},
     "output_type": "execute_result"
    }
   ],
   "source": [
    "data_test=data_test.drop([\"vidid\"],axis=1)\n",
    "data_test.head()"
   ]
  },
  {
   "cell_type": "code",
   "execution_count": 41,
   "metadata": {},
   "outputs": [],
   "source": [
    "from sklearn.preprocessing import MinMaxScaler\n",
    "scaler = MinMaxScaler()\n",
    "X_test = data_test\n",
    "X_test=scaler.fit_transform(X_test)\n"
   ]
  },
  {
   "cell_type": "code",
   "execution_count": 42,
   "metadata": {},
   "outputs": [],
   "source": [
    "prediction = model.predict(X_test)"
   ]
  },
  {
   "cell_type": "code",
   "execution_count": 43,
   "metadata": {},
   "outputs": [
    {
     "name": "stdout",
     "output_type": "stream",
     "text": [
      "<class 'pandas.core.frame.DataFrame'>\n",
      "RangeIndex: 8549 entries, 0 to 8548\n",
      "Data columns (total 1 columns):\n",
      " #   Column  Non-Null Count  Dtype  \n",
      "---  ------  --------------  -----  \n",
      " 0   0       8549 non-null   float32\n",
      "dtypes: float32(1)\n",
      "memory usage: 33.5 KB\n"
     ]
    }
   ],
   "source": [
    "prediction=pd.DataFrame(prediction)\n",
    "prediction.info()"
   ]
  },
  {
   "cell_type": "code",
   "execution_count": 44,
   "metadata": {},
   "outputs": [],
   "source": [
    "prediction = prediction.rename(columns={0: \"Adview\"})"
   ]
  },
  {
   "cell_type": "code",
   "execution_count": 45,
   "metadata": {},
   "outputs": [
    {
     "data": {
      "text/html": [
       "<div>\n",
       "<style scoped>\n",
       "    .dataframe tbody tr th:only-of-type {\n",
       "        vertical-align: middle;\n",
       "    }\n",
       "\n",
       "    .dataframe tbody tr th {\n",
       "        vertical-align: top;\n",
       "    }\n",
       "\n",
       "    .dataframe thead th {\n",
       "        text-align: right;\n",
       "    }\n",
       "</style>\n",
       "<table border=\"1\" class=\"dataframe\">\n",
       "  <thead>\n",
       "    <tr style=\"text-align: right;\">\n",
       "      <th></th>\n",
       "      <th>Adview</th>\n",
       "    </tr>\n",
       "  </thead>\n",
       "  <tbody>\n",
       "    <tr>\n",
       "      <th>0</th>\n",
       "      <td>2239.792969</td>\n",
       "    </tr>\n",
       "    <tr>\n",
       "      <th>1</th>\n",
       "      <td>2336.490723</td>\n",
       "    </tr>\n",
       "    <tr>\n",
       "      <th>2</th>\n",
       "      <td>1065.282104</td>\n",
       "    </tr>\n",
       "    <tr>\n",
       "      <th>3</th>\n",
       "      <td>879.821899</td>\n",
       "    </tr>\n",
       "    <tr>\n",
       "      <th>4</th>\n",
       "      <td>2152.696289</td>\n",
       "    </tr>\n",
       "  </tbody>\n",
       "</table>\n",
       "</div>"
      ],
      "text/plain": [
       "        Adview\n",
       "0  2239.792969\n",
       "1  2336.490723\n",
       "2  1065.282104\n",
       "3   879.821899\n",
       "4  2152.696289"
      ]
     },
     "execution_count": 45,
     "metadata": {},
     "output_type": "execute_result"
    }
   ],
   "source": [
    "prediction.head()"
   ]
  },
  {
   "cell_type": "code",
   "execution_count": 46,
   "metadata": {},
   "outputs": [],
   "source": [
    "prediction.to_csv('predictions.csv')"
   ]
  }
 ],
 "metadata": {
  "kernelspec": {
   "display_name": "Python 3",
   "language": "python",
   "name": "python3"
  },
  "language_info": {
   "codemirror_mode": {
    "name": "ipython",
    "version": 3
   },
   "file_extension": ".py",
   "mimetype": "text/x-python",
   "name": "python",
   "nbconvert_exporter": "python",
   "pygments_lexer": "ipython3",
   "version": "3.6.13"
  }
 },
 "nbformat": 4,
 "nbformat_minor": 2
}
